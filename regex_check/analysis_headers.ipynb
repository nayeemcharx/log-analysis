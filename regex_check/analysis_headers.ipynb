{
 "cells": [
  {
   "cell_type": "code",
   "execution_count": 5,
   "metadata": {},
   "outputs": [],
   "source": [
    "import pandas as pd\n",
    "def filterLog(filename):\n",
    "    # Specify the file path\n",
    "    file_path =filename\n",
    "\n",
    "    # Read the CSV file without headers\n",
    "    df = pd.read_csv(file_path, header=None)\n",
    "\n",
    "    # # Select columns with the specified indices\n",
    "    # selected_columns = df.iloc[:, [6,7,14]]\n",
    "    # selected_columns.columns = [\n",
    "    #     'header',\n",
    "    #     'body',\n",
    "    #     'url'\n",
    "    # ]\n",
    "   \n",
    "    # # Specify the path for the nssew CSV file\n",
    "    # output_file_path = f'{filename}_filtered_requests.csv'\n",
    "    \n",
    "    # # Save the filtered dataframe to a new CSV file with the new header\n",
    "    # selected_columns.to_csv(output_file_path, index=False)\n",
    "    return df.iloc[0]"
   ]
  },
  {
   "cell_type": "code",
   "execution_count": 6,
   "metadata": {},
   "outputs": [
    {
     "data": {
      "text/plain": [
       "0                                                 Proxy\n",
       "1                                                    []\n",
       "2                                                 False\n",
       "3                                                   NaN\n",
       "4                                                   NaN\n",
       "5     UE9TVCAvZXZlbnQvcG9zdEV2ZW50IEhUVFAvMS4xDQpIb3...\n",
       "6     Host: ec.walkme.com\\r\\nUser-Agent: Mozilla/5.0...\n",
       "7     {\"time\":1724320716653,\"type\":\"activity\",\"sId\":...\n",
       "8                                                   329\n",
       "9                          Thu Jan 01 06:00:00 BDT 1970\n",
       "10                                                  329\n",
       "11                                                Proxy\n",
       "12                                                  NaN\n",
       "13                                                 True\n",
       "14                https://ec.walkme.com/event/postEvent\n",
       "15                                                 POST\n",
       "16                                     /event/postEvent\n",
       "17                                                  NaN\n",
       "18                                     /event/postEvent\n",
       "19                                                https\n",
       "20                                                 True\n",
       "21                                                   No\n",
       "22                                        ec.walkme.com\n",
       "23                                https://ec.walkme.com\n",
       "24                                                  443\n",
       "25                                           text/plain\n",
       "26                                        ec.walkme.com\n",
       "27                                                  NaN\n",
       "28                     https://login.structuredweb.com/\n",
       "29                                                 True\n",
       "30                                                False\n",
       "31                                                 True\n",
       "32                                                False\n",
       "33                                                  NaN\n",
       "34                                                   11\n",
       "35    [time, type, sId, uId, euId, env, cseuId, euId...\n",
       "36                      https://login.structuredweb.com\n",
       "37    SFRUUC8yIDIwMCBPSw0KU3RyaWN0LVRyYW5zcG9ydC1TZW...\n",
       "38    Strict-Transport-Security: max-age=31536000; i...\n",
       "39                                                   ok\n",
       "40                                                  2.0\n",
       "41             7a85f4764bbd6daf1c3545efbbf0f279a6dc0beb\n",
       "42                         Thu Jan 01 06:00:00 BDT 1970\n",
       "43                                                    2\n",
       "44                                                  NaN\n",
       "45                                                  200\n",
       "46                                                  NaN\n",
       "47                                                  NaN\n",
       "48                                                    0\n",
       "49                                                  NaN\n",
       "50                             text/html; charset=utf-8\n",
       "51                                           PLAIN_TEXT\n",
       "52                                                 HTML\n",
       "53                                                False\n",
       "54                                                   []\n",
       "55                                                   []\n",
       "56                                                  0.0\n",
       "Name: 0, dtype: object"
      ]
     },
     "execution_count": 6,
     "metadata": {},
     "output_type": "execute_result"
    }
   ],
   "source": [
    "filterLog('./../raise.csv')"
   ]
  },
  {
   "cell_type": "code",
   "execution_count": 43,
   "metadata": {},
   "outputs": [],
   "source": [
    "\n",
    "# Read the CSV file without headers\n",
    "df = pd.read_csv('blackboard_filtered_requests.csv')"
   ]
  },
  {
   "cell_type": "code",
   "execution_count": null,
   "metadata": {},
   "outputs": [],
   "source": []
  },
  {
   "cell_type": "code",
   "execution_count": 16,
   "metadata": {},
   "outputs": [],
   "source": [
    "import pandas as pd\n",
    "def filterResponseBody(filename):\n",
    "    # Specify the file path\n",
    "    file_path = f'{filename}.csv'\n",
    "\n",
    "    # Read the CSV file without headers\n",
    "    df = pd.read_csv(file_path, header=None)\n",
    "\n",
    "    # Select columns with the specified indices\n",
    "    selected_columns = df.iloc[:, [37,38]]\n",
    "\n",
    "   \n",
    "    # Specify the path for the new CSV file\n",
    "    output_file_path = f'{filename}_response_body.csv'\n",
    "    \n",
    "    # Save the filtered dataframe to a new CSV file with the new header\n",
    "    selected_columns.to_csv(output_file_path, index=False,header=None)"
   ]
  },
  {
   "cell_type": "code",
   "execution_count": 17,
   "metadata": {},
   "outputs": [],
   "source": [
    "filterResponseBody('blackboard')"
   ]
  },
  {
   "cell_type": "code",
   "execution_count": 78,
   "metadata": {},
   "outputs": [],
   "source": [
    "import re\n",
    "# SQL injection detection regex patterns\n",
    "sql_injection_patterns =  [\n",
    "    r\"(?i:(?i:\\d[\\\"'`´’‘]\\s+[\\\"'`´’‘]\\s+\\d)|(?:^admin\\s*?[\\\"'`´’‘]|(\\/\\*)+[\\\"'`´’‘]+\\s?(?:--|#|\\/\\*|{)?)|(?:[\\\"'`´’‘]\\s*?\\b(x?or|div|like|between|and)\\b\\s*?[+<>=(),-]\\s*?[\\d\\\"'`´’‘])|(?:[\\\"'`´’‘]\\s*?[^\\w\\s]?=\\s*?[\\\"'`´’‘])|(?:[\\\"'`´’‘]\\W*?[+=]+\\W*?[\\\"'`´’‘])|(?:[\\\"'`´’‘]\\s*?[!=|][\\d\\s!=+-]+.*?[\\\"'`´’‘(].*?$)|(?:[\\\"'`´’‘]\\s*?[!=|][\\d\\s!=]+.*?\\d+$)|(?:[\\\"'`´’‘]\\s*?like\\W+[\\w\\\"'`´’‘(])|(?:\\sis\\s*?0\\W)|(?:where\\s[\\s\\w\\.,-]+\\s=)|(?:[\\\"'`´’‘][<>~]+[\\\"'`´’‘]))\",\n",
    "    r\"(?i:(?:\\sexec\\s+xp_cmdshell)|(?:[\\\"'`´’‘]\\s*?!\\s*?[\\\"'`´’‘\\w])|(?:from\\W+information_schema\\W)|(?:(?:(?:current_)?user|database|schema|connection_id)\\s*?\\([^\\)]*?)|(?:[\\\"'`´’‘];?\\s*?(?:select|union|having)\\s*?[^\\s])|(?:\\wiif\\s*?\\()|(?:exec\\s+master\\.)|(?:union select @)|(?:union[\\w(\\s]*?select)|(?:select.*?\\w?user\\()|(?:into[\\s+]+(?:dump|out)file\\s*?[\\\"'`´’‘]))\",\n",
    "    r\"(?i:(?:,.*?[)\\da-f\\\"'`´’‘][\\\"'`´’‘](?:[\\\"'`´’‘].*?[\\\"'`´’‘]|\\Z|[^\\\"'`´’‘]+))|(?:\\Wselect.+\\W*?from)|((?:select|create|rename|truncate|load|alter|delete|update|insert|desc)\\s*?\\(\\s*?space\\s*?\\())\",\n",
    "    r\"(?i:(?:@.+=\\s*?\\(\\s*?select)|(?:\\d+\\s*?(x?or|div|like|between|and)\\s*?\\d+\\s*?[\\-+])|(?:\\/\\w+;?\\s+(?:having|and|x?or|div|like|between|and|select)\\W)|(?:\\d\\s+group\\s+by.+\\()|(?:(?:;|#|--)\\s*?(?:drop|alter))|(?:(?:;|#|--)\\s*?(?:update|insert)\\s*?\\w{2,})|(?:[^\\w]SET\\s*?@\\w+)|(?:(?:n?and|x?x?or|div|like|between|and|not |\\|\\||\\&\\&)[\\s(]+\\w+[\\s)]*?[!=+]+[\\s\\d]*?[\\\"'`´’‘=()]))\",\n",
    "    r\"(?i:(?:^(-0000023456|4294967295|4294967296|2147483648|2147483647|0000012345|-2147483648|-2147483649|0000023456|2.2.90738585072007e-308|1e309)$))\",\n",
    "    r\"(?i:(?:(select|;)\\s+(?:benchmark|if|sleep)\\s*?\\(\\s*?\\(?\\s*?\\w+))\",\n",
    "    r\"(?i:(?:[\\s()]case\\s*?\\()|(?:\\)\\s*?like\\s*?\\()|(?:having\\s*?[^\\s]+\\s*?[^\\w\\s])|(?:if\\s?\\([\\d\\w]\\s*?[=<>~]))\",\n",
    "    r\"(?i:(?:alter\\s*?\\w+.*?character\\s+set\\s+\\w+)|([\\\"'`´’‘];\\s*?waitfor\\s+time\\s+[\\\"'`´’‘])|(?:[\\\"'`´’‘];.*?:\\s*?goto))\",\n",
    "    r\"(?i:(?:merge.*?using\\s*?\\()|(execute\\s*?immediate\\s*?[\\\"'`´’‘])|(?:\\W+\\d*?\\s*?having\\s*?[^\\s\\-])|(?:match\\s*?[\\w(),+-]+\\s*?against\\s*?\\())\",\n",
    "    r\"(?i:(?:union\\s*?(?:all|distinct|[(!@]*?)?\\s*?[([]*?\\s*?select\\s+)|(?:\\w+\\s+like\\s+[\\\"'`´’‘])|(?:like\\s*?[\\\"'`´’‘]\\%)|(?:[\\\"'`´’‘]\\s*?like\\W*?[\\\"'`´’‘\\d])|(?:[\\\"'`´’‘]\\s*?(?:n?and|x?x?or|div|like|between|and|not |\\|\\||\\&\\&)\\s+[\\s\\w]+=\\s*?\\w+\\s*?having\\s+)|(?:[\\\"'`´’‘]\\s*?\\*\\s*?\\w+\\W+[\\\"'`´’‘])|(?:[\\\"'`´’‘]\\s*?[^?\\w\\s=.,;)(]+\\s*?[(@\\\"'`´’‘]*?\\s*?\\w+\\W+\\w)|(?:select\\s+?[\\[\\]()\\s\\w\\.,\\\"'`´’‘-]+from\\s+)|(?:find_in_set\\s*?\\())\",\n",
    "    r\"(?i:(?:(union(.*?)select(.*?)from)))\",\n",
    "    r\"(?i:(?:select\\s*?pg_sleep)|(?:waitfor\\s*?delay\\s?[\\\"'`´’‘]+\\s?\\d)|(?:;\\s*?shutdown\\s*?(?:;|--|#|\\/\\*|{)))\",\n",
    "    r\"(?i:(?:\\[\\$(?:ne|eq|lte?|gte?|n?in|mod|all|size|exists|type|slice|x?or|div|like|between|and)\\]))\",\n",
    "    r\"(?i:(?:\\)\\s*?when\\s*?\\d+\\s*?then)|(?:[\\\"'`´’‘]\\s*?(?:#|--|{))|(?:\\/\\*!\\s?\\d+)|(?:ch(?:a)?r\\s*?\\(\\s*?\\d)|(?:(?:(n?and|x?x?or|div|like|between|and|not)\\s+|\\|\\||\\&\\&)\\s*?\\w+\\())\",\n",
    "    r\"(?i:(?:[\\\"'`´’‘]\\s+and\\s*?=\\W)|(?:\\(\\s*?select\\s*?\\w+\\\\s*?\\()|(?:\\*\\/from)|(?:\\+\\s*?\\d+\\s*?\\+\\s*?@)|(?:\\w[\\\"'`´’‘]\\s*?(?:[-+=|@]+\\s*?)+[\\d(])|(?:coalesce\\s*?\\(|@@\\w+\\s*?[^\\w\\s])|(?:\\W!+[\\\"'`´’‘]\\w)|(?:[\\\"'`´’‘];\\s*?(?:if|while|begin))|(?:[\\\"'`´’‘][\\s\\d]+=\\s*?\\d)|(?:order\\s+by\\s+if\\w*?\\s*?\\()|(?:[\\s(]+case\\d*?\\W.+[tw]hen[\\s(]))\"\n",
    "]\n",
    "\n",
    "# Function to check if a string matches any of the SQL injection patterns\n",
    "def detect_sqli(input_string):\n",
    "    for pattern in sql_injection_patterns:\n",
    "        if re.search(pattern, input_string):\n",
    "            return True\n",
    "    return False\n"
   ]
  },
  {
   "cell_type": "code",
   "execution_count": 82,
   "metadata": {},
   "outputs": [
    {
     "name": "stdout",
     "output_type": "stream",
     "text": [
      "Saved 525 requests with potential SQLi in the body.\n"
     ]
    }
   ],
   "source": [
    "\n",
    "# Read the CSV file without a header\n",
    "df = pd.read_csv('blackboard_filtered_requests.csv', header=None)\n",
    "\n",
    "# Column 0 is for headers and column 1 is for URLs\n",
    "df['sqli_in_headers'] = df[0].apply(lambda x: detect_sqli(str(x)))\n",
    "df['sqli_in_urls'] = df[2].apply(lambda x: detect_sqli(str(x)))\n",
    "df['sqli_in_body'] = df[1].apply(lambda x: detect_sqli(str(x)))\n",
    "# Filter rows where SQLi was detected in either 'headers' or 'urls'\n",
    "sqli_detected = df[(df['sqli_in_headers'] == True) | (df['sqli_in_urls'] == True) | (df['sqli_in_body'] == True)]\n",
    "# Keep only index 1 and 'sqli_in_body' column\n",
    "sqli_in_body_only = sqli_detected[[1, 'sqli_in_body']]\n",
    "\n",
    "# Save the filtered results to a new CSV file\n",
    "sqli_in_body_only.to_csv('sqli_in_body_only_results.csv', index=False)\n",
    "\n",
    "print(f\"Saved {len(sqli_in_body_only)} requests with potential SQLi in the body.\")\n"
   ]
  },
  {
   "cell_type": "code",
   "execution_count": 41,
   "metadata": {},
   "outputs": [],
   "source": [
    "import re\n",
    "\n",
    "# Define XSS patterns\n",
    "# xss_patterns = [\n",
    "#     r\"on\\w+=\", \n",
    "#     r\"<script\\b[^<]*(?:(?!<\\/script>)<[^<]*)*<\\/script>\", \n",
    "#     r\"javascript\\s*:\", \n",
    "#     r\"<img\\s+[^>]*src\\s*=\\s*[\\\"']?\\s*javascript\\s*:\", \n",
    "#     r\"<(?:object|embed|iframe)\\b[^>]*>\", \n",
    "#     r\"expression\\s*\\(\", \n",
    "#     r\"&#[xX]?[0-9a-fA-F]+;\"\n",
    "# ]\n",
    "xss_patterns=[r'(?i)<script[^>]*>[\\s\\S]*?',r\"(?i).(?:\\b(?:x(?:link:href|html|mlns)|data:text/html|formaction|pattern\\b.*?=)|!ENTITY[\\s\\x0b]+(?:%[\\s\\x0b]+)?[^\\s\\x0b]+[\\s\\x0b]+(?:SYSTEM|PUBLIC)|@import|;base64)\\b\"]\n",
    "\n",
    "# XSS detection function that returns the pattern and location\n",
    "def detect_xss(input_string):\n",
    "    for pattern in xss_patterns:\n",
    "        match = re.search(pattern, input_string)\n",
    "        if match:\n",
    "            return {\n",
    "                'pattern': pattern, \n",
    "                'start': match.start(), \n",
    "                'end': match.end(), \n",
    "                'match': match.group()\n",
    "            }\n",
    "    return None  # No match found"
   ]
  },
  {
   "cell_type": "code",
   "execution_count": 43,
   "metadata": {},
   "outputs": [
    {
     "name": "stdout",
     "output_type": "stream",
     "text": [
      "Saved 338 requests with potential XSS in the body or header.\n",
      "XSS patterns found in the data:\n",
      "                                          xss_in_header xss_in_url xss_in_body\n",
      "5     {'pattern': '(?i).(?:\\b(?:x(?:link:href|html|m...       None        None\n",
      "28    {'pattern': '(?i).(?:\\b(?:x(?:link:href|html|m...       None        None\n",
      "29    {'pattern': '(?i).(?:\\b(?:x(?:link:href|html|m...       None        None\n",
      "39    {'pattern': '(?i).(?:\\b(?:x(?:link:href|html|m...       None        None\n",
      "98    {'pattern': '(?i).(?:\\b(?:x(?:link:href|html|m...       None        None\n",
      "...                                                 ...        ...         ...\n",
      "4480  {'pattern': '(?i).(?:\\b(?:x(?:link:href|html|m...       None        None\n",
      "4482  {'pattern': '(?i).(?:\\b(?:x(?:link:href|html|m...       None        None\n",
      "4485  {'pattern': '(?i).(?:\\b(?:x(?:link:href|html|m...       None        None\n",
      "4486  {'pattern': '(?i).(?:\\b(?:x(?:link:href|html|m...       None        None\n",
      "4490  {'pattern': '(?i).(?:\\b(?:x(?:link:href|html|m...       None        None\n",
      "\n",
      "[338 rows x 3 columns]\n"
     ]
    }
   ],
   "source": [
    "# Import pandas and load CSV\n",
    "import pandas as pd\n",
    "df = pd.read_csv('blackboard_filtered_requests.csv', header=None)\n",
    "\n",
    "# Apply XSS detection to each column and store results\n",
    "df['xss_in_header'] = df[0].apply(lambda x: detect_xss(str(x)))\n",
    "df['xss_in_url'] = df[2].apply(lambda x: detect_xss(str(x)))\n",
    "df['xss_in_body'] = df[1].apply(lambda x: detect_xss(str(x)))\n",
    "\n",
    "# Filter rows where XSS was detected in any of the fields\n",
    "xss_detected = df[\n",
    "    df['xss_in_url'].notnull() | \n",
    "    df['xss_in_body'].notnull() | \n",
    "    df['xss_in_header'].notnull()\n",
    "]\n",
    "\n",
    "# Save the filtered results to a new CSV file\n",
    "xss_detected.to_csv('xss_results.csv', index=False)\n",
    "\n",
    "# Display results\n",
    "print(f\"Saved {len(xss_detected)} requests with potential XSS in the body or header.\")\n",
    "print(\"XSS patterns found in the data:\")\n",
    "print(xss_detected[['xss_in_header', 'xss_in_url', 'xss_in_body']].dropna(how='all'))"
   ]
  },
  {
   "cell_type": "code",
   "execution_count": null,
   "metadata": {},
   "outputs": [],
   "source": [
    "# Let's search for XSS-related SecRule patterns in the OWASP rule file\n",
    "import re\n",
    "\n",
    "# Pattern to search for SecRules related to XSS attacks\n",
    "xss_rule_pattern = re.compile(r'SecRule.*(XSS|xss)', re.IGNORECASE)\n",
    "\n",
    "# Extracting all lines that potentially contain XSS-related rules\n",
    "xss_rules = [line for line in owasp_xss_rules if xss_rule_pattern.search(line)]\n",
    "\n",
    "# Display the first few relevant rules for inspection\n",
    "xss_rules[:10]\n"
   ]
  }
 ],
 "metadata": {
  "kernelspec": {
   "display_name": "Python 3",
   "language": "python",
   "name": "python3"
  },
  "language_info": {
   "codemirror_mode": {
    "name": "ipython",
    "version": 3
   },
   "file_extension": ".py",
   "mimetype": "text/x-python",
   "name": "python",
   "nbconvert_exporter": "python",
   "pygments_lexer": "ipython3",
   "version": "3.12.7"
  }
 },
 "nbformat": 4,
 "nbformat_minor": 2
}
