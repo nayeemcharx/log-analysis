{
 "cells": [
  {
   "cell_type": "code",
   "execution_count": 10,
   "metadata": {},
   "outputs": [],
   "source": [
    "import pandas as pd\n",
    "def filterLog(filepath):\n",
    "    # Specify the file path\n",
    "    \n",
    "\n",
    "    # Read the CSV file without headers\n",
    "    df = pd.read_csv(filepath)\n",
    "    print(df.iloc[0])\n",
    "   "
   ]
  },
  {
   "cell_type": "code",
   "execution_count": 11,
   "metadata": {},
   "outputs": [
    {
     "name": "stdout",
     "output_type": "stream",
     "text": [
      "Entry.Tool                                                                  Proxy\n",
      "Entry.Tags                                                                     []\n",
      "Entry.InScope                                                               False\n",
      "Entry.ListenInterface                                                         NaN\n",
      "Entry.ClientIP                                                                NaN\n",
      "Request.AsBase64                R0VUIC92MS90aWxlcyBIVFRQLzEuMQ0KSG9zdDogY29udG...\n",
      "Request.Headers                 Host: contile.services.mozilla.com\\r\\nUser-Age...\n",
      "Request.Body                                                                  NaN\n",
      "Request.BodyLength                                                              0\n",
      "Request.Time                                         Thu Jan 01 06:00:00 BDT 1970\n",
      "Request.Length                                                                  0\n",
      "Request.Tool                                                                Proxy\n",
      "Request.Comment                                                               NaN\n",
      "Request.Complete                                                             True\n",
      "Request.URL                         https://contile.services.mozilla.com/v1/tiles\n",
      "Request.Method                                                                GET\n",
      "Request.Path                                                            /v1/tiles\n",
      "Request.Query                                                                 NaN\n",
      "Request.PathQuery                                                       /v1/tiles\n",
      "Request.Protocol                                                            https\n",
      "Request.IsSSL                                                                True\n",
      "Request.UsesCookieJar                                                          No\n",
      "Request.Hostname                                     contile.services.mozilla.com\n",
      "Request.Host                                 https://contile.services.mozilla.com\n",
      "Request.Port                                                                  443\n",
      "Request.ContentType                                                           NaN\n",
      "Request.RequestHttpVersion                           contile.services.mozilla.com\n",
      "Request.Extension                                                             NaN\n",
      "Request.Referrer                                                              NaN\n",
      "Request.HasParams                                                           False\n",
      "Request.HasGetParam                                                         False\n",
      "Request.HasPostParam                                                        False\n",
      "Request.HasSentCookies                                                      False\n",
      "Request.CookieString                                                          NaN\n",
      "Request.ParameterCount                                                          0\n",
      "Request.Parameters                                                             []\n",
      "Request.Origin                                                                NaN\n",
      "Response.AsBase64               SFRUUC8yIDIwNCBObyBDb250ZW50DQpEYXRlOiBTYXQsID...\n",
      "Response.Headers                Date: Sat, 31 Aug 2024 06:13:07 GMT\\r\\nVia: 1....\n",
      "Response.Body                                                                 NaN\n",
      "Response.BodyLength                                                           0.0\n",
      "Response.hash                            da39a3ee5e6b4b0d3255bfef95601890afd80709\n",
      "Response.Time                                        Thu Jan 01 06:00:00 BDT 1970\n",
      "Response.Length                                                                 0\n",
      "Response.Redirect                                                             NaN\n",
      "Response.Status                                                               204\n",
      "Response.StatusText                                                           NaN\n",
      "Response.ResponseHttpVersion                                                  NaN\n",
      "Response.RTT                                                                    0\n",
      "Response.Title                                                                NaN\n",
      "Response.ContentType                                                          NaN\n",
      "Response.InferredType                                                        NONE\n",
      "Response.MimeType                                                            NONE\n",
      "Response.HasSetCookies                                                      False\n",
      "Response.Cookies                                                               []\n",
      "Response.ReflectedParams                                                       []\n",
      "Response.Reflections                                                          0.0\n",
      "Name: 0, dtype: object\n"
     ]
    }
   ],
   "source": [
    "filterLog(\"./../raise.csv\")"
   ]
  },
  {
   "cell_type": "code",
   "execution_count": null,
   "metadata": {},
   "outputs": [],
   "source": []
  }
 ],
 "metadata": {
  "kernelspec": {
   "display_name": "Python 3",
   "language": "python",
   "name": "python3"
  },
  "language_info": {
   "codemirror_mode": {
    "name": "ipython",
    "version": 3
   },
   "file_extension": ".py",
   "mimetype": "text/x-python",
   "name": "python",
   "nbconvert_exporter": "python",
   "pygments_lexer": "ipython3",
   "version": "3.12.6"
  }
 },
 "nbformat": 4,
 "nbformat_minor": 2
}
