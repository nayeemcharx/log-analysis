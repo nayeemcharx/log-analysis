{
 "cells": [
  {
   "cell_type": "code",
   "execution_count": 51,
   "metadata": {},
   "outputs": [],
   "source": [
    "\n",
    "# app = Flask(__name__)\n",
    "def parse_headers(headers_str):\n",
    "    headers = {}\n",
    "    if headers_str.strip(): \n",
    "        header_lines = headers_str.splitlines()\n",
    "        for line in header_lines:\n",
    "            if ':' in line:\n",
    "                key, value = line.split(':', 1)\n",
    "                headers[key.strip()] = value.strip()\n",
    "    return headers\n",
    "\n",
    "def validate_token(token):\n",
    "    # In a real app, you'd check the token against a database or other service\n",
    "    return True\n",
    "\n",
    "# @app.route('/check-auth', methods=['GET', 'POST'])\n",
    "def check_auth(headers):\n",
    "    auth_header = headers.get('Authorization')\n",
    "    auth_cookie=headers.get('Cookie')\n",
    "    # Check if the Authorization header is missing\n",
    "    if auth_header is None:\n",
    "        return \"Unauthorized: Missing Authorization header\"\n",
    "    if(auth_cookie is None):\n",
    "        return \"Unauthorized: Missing Cookie header\"\n",
    "    # # Example for Bearer Token Authentication (can be adapted for other types)\n",
    "    # if not auth_header.startswith(\"Bearer \"):\n",
    "    #     return \"Unauthorized: Invalid Authorization format\"\n",
    "    \n",
    "    # Extract the token and validate it\n",
    "    token = auth_header.split(\" \")[1]\n",
    "    if not validate_token(token):\n",
    "        return \"Unauthorized: Invalid token\"\n",
    "    \n",
    "    # If everything is valid, return success\n",
    "    return \"Authenticated!\"\n",
    "\n"
   ]
  },
  {
   "cell_type": "code",
   "execution_count": 57,
   "metadata": {},
   "outputs": [],
   "source": [
    "import csv\n",
    "def checkRequests(csv_file_path,output_file_path):\n",
    "    with open(csv_file_path, mode='r', newline='', encoding='utf-8') as file:\n",
    "        csv_reader = csv.DictReader(file)\n",
    "        requests_data = [row for row in csv_reader]\n",
    "    headers=[{'header':parse_headers(row['Request.Headers']),'valid':check_auth(parse_headers(row['Request.Headers']))} for row in requests_data]\n",
    "    with open(output_file_path, mode='w', newline='', encoding='utf-8') as file:\n",
    "        csv_writer = csv.DictWriter(file, fieldnames=['header', 'valid'])\n",
    "        csv_writer.writeheader()\n",
    "        for entry in headers:\n",
    "            csv_writer.writerow(entry)"
   ]
  },
  {
   "cell_type": "code",
   "execution_count": 58,
   "metadata": {},
   "outputs": [],
   "source": [
    "checkRequests(\"http_requests_recapped.csv\",\"recapped_auth.csv\")"
   ]
  }
 ],
 "metadata": {
  "kernelspec": {
   "display_name": "Python 3",
   "language": "python",
   "name": "python3"
  },
  "language_info": {
   "codemirror_mode": {
    "name": "ipython",
    "version": 3
   },
   "file_extension": ".py",
   "mimetype": "text/x-python",
   "name": "python",
   "nbconvert_exporter": "python",
   "pygments_lexer": "ipython3",
   "version": "3.12.7"
  }
 },
 "nbformat": 4,
 "nbformat_minor": 2
}
